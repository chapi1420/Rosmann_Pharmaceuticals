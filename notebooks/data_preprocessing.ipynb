{
 "cells": [
  {
   "cell_type": "markdown",
   "metadata": {},
   "source": [
    "<!DOCTYPE html>\n",
    "<html lang=\"en\">\n",
    "<head>\n",
    "    <meta charset=\"UTF-8\">\n",
    "    <meta name=\"viewport\" content=\"width=device-width, initial-scale=1.0\">\n",
    "    <title>Data Preprocessing Functions</title>\n",
    "    <style>\n",
    "        body {\n",
    "            font-family: Arial, sans-serif;\n",
    "            line-height: 1.6;\n",
    "            margin: 20px;\n",
    "        }\n",
    "        h1, h2 {\n",
    "            color: #656;\n",
    "        }\n",
    "        code {\n",
    "            background-color:rgb(59, 72, 89);\n",
    "            padding: 2px 4px;\n",
    "            border-radius: 4px;\n",
    "        }\n",
    "        pre {\n",
    "            background-color:rgb(74, 48, 92);\n",
    "            padding: 10px;\n",
    "            border-radius: 4px;\n",
    "        }\n",
    "    </style>\n",
    "</head>\n",
    "<body>\n",
    "\n",
    "<h1>Data Preprocessing Functions</h1>\n",
    "\n",
    "<h2>1. Import Libraries</h2>\n",
    "<p>This function imports the necessary libraries for data manipulation and analysis.</p>\n",
    "<pre><code>import pandas as pd\n",
    "import numpy as np</code></pre>\n",
    "\n",
    "<h2>2. Load the Data</h2>\n",
    "<p>This function loads the training and test datasets from CSV files into pandas DataFrames.</p>\n",
    "<pre><code>self.X_train = pd.read_csv('path_to_train_data.csv')\n",
    "self.X_test = pd.read_csv('path_to_test_data.csv')</code></pre>\n",
    "\n",
    "<h2>3. Handle Missing Values</h2>\n",
    "<p>This function fills missing values in specified columns with 0 to ensure that the model can handle these gaps.</p>\n",
    "<pre><code>columns_to_fill = ['Column1', 'Column2']  # Replace with actual column names\n",
    "for col in columns_to_fill:\n",
    "    self.X_train[col] = self.X_train[col].fillna(0)\n",
    "    self.X_test[col] = self.X_test[col].fillna(0)</code></pre>\n",
    "\n",
    "<h2>4. Encoding Categorical Variables</h2>\n",
    "<p>This function replaces categorical values in specific columns with numerical representations to prepare for model training.</p>\n",
    "<pre><code>self.X_train['StateHoliday'] = self.X_train['StateHoliday'].replace({'0': 0, 'a': 1, 'b': 2, 'c': 3}).infer_objects(copy=False)\n",
    "self.X_test['StateHoliday'] = self.X_test['StateHoliday'].replace({'0': 0, 'a': 1, 'b': 2, 'c': 3}).infer_objects(copy=False)</code></pre>\n",
    "\n",
    "<h2>5. Drop Unnecessary Columns</h2>\n",
    "<p>This function removes columns that are not needed for analysis, such as 'CompetitionOpenSinceMonth' and 'CompetitionOpenSinceYear'.</p>\n",
    "<pre><code>columns_to_drop = ['CompetitionOpenSinceMonth', 'CompetitionOpenSinceYear']\n",
    "self.X_train = self.X_train.drop(columns=[col for col in columns_to_drop if col in self.X_train.columns], axis=1)\n",
    "self.X_test = self.X_test.drop(columns=[col for col in columns_to_drop if col in self.X_test.columns], axis=1)</code></pre>\n",
    "\n",
    "<h2>6. Add 'sales' Column to Test Data</h2>\n",
    "<p>This function adds a 'sales' column to the test DataFrame and initializes all values to null, preparing for future data entry.</p>\n",
    "<pre><code>self.X_test['sales'] = np.nan</code></pre>\n",
    "\n",
    "<h2>7. Summary of Preprocessing</h2>\n",
    "<p>This function displays the processed training and test datasets to verify that all preprocessing steps have been applied correctly.</p>\n",
    "<pre><code>print(\"Processed Training Data:\")\n",
    "display(self.X_train.head())\n",
    "\n",
    "print(\"Processed Test Data:\")\n",
    "display(self.X_test.head())</code></pre>\n",
    "\n",
    "</body>\n",
    "</html>\n"
   ]
  },
  {
   "cell_type": "code",
   "execution_count": 2,
   "metadata": {},
   "outputs": [],
   "source": [
    "import sys\n",
    "import os"
   ]
  },
  {
   "cell_type": "code",
   "execution_count": 3,
   "metadata": {},
   "outputs": [],
   "source": [
    "sys.path.append(os.path.abspath('..'))"
   ]
  },
  {
   "cell_type": "code",
   "execution_count": 4,
   "metadata": {},
   "outputs": [],
   "source": [
    "from scripts.task2preprocessing import DataProcessor"
   ]
  },
  {
   "cell_type": "markdown",
   "metadata": {},
   "source": [
    "we have imported all the required libraries. now we instantiate variables with  data path in them and we will load them to the class."
   ]
  },
  {
   "cell_type": "code",
   "execution_count": 5,
   "metadata": {},
   "outputs": [],
   "source": [
    "train_path=\"C:\\\\Users\\\\nadew\\\\10x\\\\week4\\\\Rosmann\\\\rossmann-store-sales\\\\train.csv\"\n",
    "test_path=\"C:\\\\Users\\\\nadew\\\\10x\\\\week4\\\\Rosmann\\\\rossmann-store-sales\\\\test.csv\" \n",
    "store_path= \"C:\\\\Users\\\\nadew\\\\10x\\\\week4\\\\Rosmann\\\\rossmann-store-sales\\\\store.csv\""
   ]
  },
  {
   "cell_type": "code",
   "execution_count": 6,
   "metadata": {},
   "outputs": [],
   "source": [
    "D_pros = DataProcessor(train_path, test_path, store_path)"
   ]
  },
  {
   "cell_type": "code",
   "execution_count": 7,
   "metadata": {},
   "outputs": [],
   "source": [
    "D_pros.load_data()"
   ]
  },
  {
   "cell_type": "code",
   "execution_count": 8,
   "metadata": {},
   "outputs": [
    {
     "name": "stderr",
     "output_type": "stream",
     "text": [
      "c:\\Users\\nadew\\10x\\week4\\Rosmann\\scripts\\task2preprocessing.py:49: FutureWarning: Downcasting behavior in `replace` is deprecated and will be removed in a future version. To retain the old behavior, explicitly call `result.infer_objects(copy=False)`. To opt-in to the future behavior, set `pd.set_option('future.no_silent_downcasting', True)`\n",
      "  self.X_train['StateHoliday'] = self.X_train['StateHoliday'].replace({'0': 0, 'a': 1, 'b': 2, 'c': 3})\n",
      "c:\\Users\\nadew\\10x\\week4\\Rosmann\\scripts\\task2preprocessing.py:50: FutureWarning: Downcasting behavior in `replace` is deprecated and will be removed in a future version. To retain the old behavior, explicitly call `result.infer_objects(copy=False)`. To opt-in to the future behavior, set `pd.set_option('future.no_silent_downcasting', True)`\n",
      "  self.X_test['StateHoliday'] = self.X_test['StateHoliday'].replace({'0': 0, 'a': 1, 'b': 2, 'c': 3})\n",
      "c:\\Users\\nadew\\10x\\week4\\Rosmann\\scripts\\task2preprocessing.py:52: FutureWarning: Downcasting behavior in `replace` is deprecated and will be removed in a future version. To retain the old behavior, explicitly call `result.infer_objects(copy=False)`. To opt-in to the future behavior, set `pd.set_option('future.no_silent_downcasting', True)`\n",
      "  self.X_train['Assortment'] = self.X_train['Assortment'].replace({'a': 1, 'b': 2, 'c': 3})\n",
      "c:\\Users\\nadew\\10x\\week4\\Rosmann\\scripts\\task2preprocessing.py:53: FutureWarning: Downcasting behavior in `replace` is deprecated and will be removed in a future version. To retain the old behavior, explicitly call `result.infer_objects(copy=False)`. To opt-in to the future behavior, set `pd.set_option('future.no_silent_downcasting', True)`\n",
      "  self.X_test['Assortment'] = self.X_test['Assortment'].replace({'a': 1, 'b': 2, 'c': 3})\n",
      "c:\\Users\\nadew\\10x\\week4\\Rosmann\\scripts\\task2preprocessing.py:55: FutureWarning: Downcasting behavior in `replace` is deprecated and will be removed in a future version. To retain the old behavior, explicitly call `result.infer_objects(copy=False)`. To opt-in to the future behavior, set `pd.set_option('future.no_silent_downcasting', True)`\n",
      "  self.X_train['StoreType'] = self.X_train['StoreType'].replace({'a': 1, 'b': 2, 'c': 3, 'd': 4})\n",
      "c:\\Users\\nadew\\10x\\week4\\Rosmann\\scripts\\task2preprocessing.py:56: FutureWarning: Downcasting behavior in `replace` is deprecated and will be removed in a future version. To retain the old behavior, explicitly call `result.infer_objects(copy=False)`. To opt-in to the future behavior, set `pd.set_option('future.no_silent_downcasting', True)`\n",
      "  self.X_test['StoreType'] = self.X_test['StoreType'].replace({'a': 1, 'b': 2, 'c': 3, 'd': 4})\n"
     ]
    }
   ],
   "source": [
    "D_pros.preprocess_data()"
   ]
  },
  {
   "cell_type": "code",
   "execution_count": 9,
   "metadata": {},
   "outputs": [],
   "source": [
    "D_pros.split_data()"
   ]
  },
  {
   "cell_type": "code",
   "execution_count": 10,
   "metadata": {},
   "outputs": [
    {
     "data": {
      "text/plain": [
       "(         Store  DayOfWeek        Date  Sales  Customers  Open  Promo  \\\n",
       " 0            1          5  2015-07-31   5263        555     1      1   \n",
       " 1            2          5  2015-07-31   6064        625     1      1   \n",
       " 2            3          5  2015-07-31   8314        821     1      1   \n",
       " 3            4          5  2015-07-31  13995       1498     1      1   \n",
       " 4            5          5  2015-07-31   4822        559     1      1   \n",
       " ...        ...        ...         ...    ...        ...   ...    ...   \n",
       " 1017204   1111          2  2013-01-01      0          0     0      0   \n",
       " 1017205   1112          2  2013-01-01      0          0     0      0   \n",
       " 1017206   1113          2  2013-01-01      0          0     0      0   \n",
       " 1017207   1114          2  2013-01-01      0          0     0      0   \n",
       " 1017208   1115          2  2013-01-01      0          0     0      0   \n",
       " \n",
       "         StateHoliday  SchoolHoliday StoreType Assortment  CompetitionDistance  \\\n",
       " 0                  0              1         c          a               1270.0   \n",
       " 1                  0              1         a          a                570.0   \n",
       " 2                  0              1         a          a              14130.0   \n",
       " 3                  0              1         c          c                620.0   \n",
       " 4                  0              1         a          a              29910.0   \n",
       " ...              ...            ...       ...        ...                  ...   \n",
       " 1017204            a              1         a          a               1900.0   \n",
       " 1017205            a              1         c          c               1880.0   \n",
       " 1017206            a              1         a          c               9260.0   \n",
       " 1017207            a              1         a          c                870.0   \n",
       " 1017208            a              1         d          c               5350.0   \n",
       " \n",
       "          CompetitionOpenSinceMonth  CompetitionOpenSinceYear  Promo2  \\\n",
       " 0                              9.0                    2008.0       0   \n",
       " 1                             11.0                    2007.0       1   \n",
       " 2                             12.0                    2006.0       1   \n",
       " 3                              9.0                    2009.0       0   \n",
       " 4                              4.0                    2015.0       0   \n",
       " ...                            ...                       ...     ...   \n",
       " 1017204                        6.0                    2014.0       1   \n",
       " 1017205                        4.0                    2006.0       0   \n",
       " 1017206                        NaN                       NaN       0   \n",
       " 1017207                        NaN                       NaN       0   \n",
       " 1017208                        NaN                       NaN       1   \n",
       " \n",
       "          Promo2SinceWeek  Promo2SinceYear     PromoInterval  \n",
       " 0                    NaN              NaN               NaN  \n",
       " 1                   13.0           2010.0   Jan,Apr,Jul,Oct  \n",
       " 2                   14.0           2011.0   Jan,Apr,Jul,Oct  \n",
       " 3                    NaN              NaN               NaN  \n",
       " 4                    NaN              NaN               NaN  \n",
       " ...                  ...              ...               ...  \n",
       " 1017204             31.0           2013.0   Jan,Apr,Jul,Oct  \n",
       " 1017205              NaN              NaN               NaN  \n",
       " 1017206              NaN              NaN               NaN  \n",
       " 1017207              NaN              NaN               NaN  \n",
       " 1017208             22.0           2012.0  Mar,Jun,Sept,Dec  \n",
       " \n",
       " [1017209 rows x 18 columns],\n",
       " Empty DataFrame\n",
       " Columns: [Store, DayOfWeek, Date, Sales, Customers, Open, Promo, StateHoliday, SchoolHoliday, StoreType, Assortment, CompetitionDistance, CompetitionOpenSinceMonth, CompetitionOpenSinceYear, Promo2, Promo2SinceWeek, Promo2SinceYear, PromoInterval]\n",
       " Index: [])"
      ]
     },
     "execution_count": 10,
     "metadata": {},
     "output_type": "execute_result"
    }
   ],
   "source": [
    "D_pros.get_data()"
   ]
  },
  {
   "cell_type": "code",
   "execution_count": null,
   "metadata": {},
   "outputs": [],
   "source": []
  }
 ],
 "metadata": {
  "kernelspec": {
   "display_name": "base",
   "language": "python",
   "name": "python3"
  },
  "language_info": {
   "codemirror_mode": {
    "name": "ipython",
    "version": 3
   },
   "file_extension": ".py",
   "mimetype": "text/x-python",
   "name": "python",
   "nbconvert_exporter": "python",
   "pygments_lexer": "ipython3",
   "version": "3.12.7"
  }
 },
 "nbformat": 4,
 "nbformat_minor": 2
}
